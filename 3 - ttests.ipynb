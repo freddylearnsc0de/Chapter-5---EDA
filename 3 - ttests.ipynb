{
 "cells": [
  {
   "cell_type": "markdown",
   "id": "72783e71-969b-4dbd-85a0-d6feb3b8d118",
   "metadata": {
    "tags": []
   },
   "source": [
    "# Basic Statistics in Python: *t* tests with SciPy\n",
    "---\n",
    "\n",
    "## Learning Objectives\n",
    "- implement paired, unpaired, and 1-sample *t* tests using the SciPy package\n",
    "\n",
    "---\n",
    "\n",
    "## Introduction\n",
    "An introductory course in statistics is a prerequisite for this class, so we assume you remember (some of) the basics including *t*-tests, ANOVAs, and regression (or at least correlation). \n",
    "\n",
    "Here we will demonstrate how to perform *t* tests in Python. Future lessons will cover ANOVA and regression.\n"
   ]
  },
  {
   "cell_type": "markdown",
   "id": "8b541e5d-ba8e-4f86-b81a-2ac6dbdcef9f",
   "metadata": {},
   "source": [
    "## The *t* test\n",
    "\n",
    "A *t* test is used to compare the means of two sets of data. For example, in the flanker experiment we used in the [previous section](./repeated_meaasures), we could compare the mean RTs for the congruent and incongruent conditions. *t* tests consider the size of the difference between the means of the two data sets, relative to the variance in each one. The less the distributions of values in the two data sets overlap, the larger the *t* value will tend to be. We can then estimate the probability that the observed difference occurred simply by chance, rather than due to a true difference — this is the *p* value. Typically, researchers use a *p* < .05 threshold to determine statistical significance. \n",
    "\n",
    "*t* tests are implemented in the [SciPy](https://docs.scipy.org) library, which \"provides many user-friendly and efficient numerical routines, such as routines for numerical integration, interpolation, optimization, linear algebra, and statistics.\" Each of those type of routines is in a separate sub-module of SciPy; the one we'll want is `scipy.stats`. We can import this specific module with the command:\n",
    "\n",
    "~~~python\n",
    "from scipy import stats\n",
    "~~~"
   ]
  },
  {
   "cell_type": "code",
   "execution_count": null,
   "id": "c7dff3bc-de5b-4ec2-95e1-da6608d3fb41",
   "metadata": {},
   "outputs": [],
   "source": []
  },
  {
   "cell_type": "markdown",
   "id": "684f718b-93f0-40e1-9e29-e674fe5fe050",
   "metadata": {},
   "source": [
    "We'll also import some other packages we'll need, and the flanker data from the previous lesson to work with:\n",
    "\n",
    "~~~python\n",
    "import pandas as pd\n",
    "import numpy as np\n",
    "import seaborn as sns\n",
    "import matplotlib.pyplot as plt\n",
    "import glob\n",
    "\n",
    "# Import the data\n",
    "df = pd.read_csv('data/flanker_rt_data.csv')\n",
    "\n",
    "## Aggregate the data across participants\n",
    "df_avg = pd.DataFrame(df.groupby(['participant', 'flankers'])['rt'].mean()).reset_index()\n",
    "\n",
    "~~~"
   ]
  },
  {
   "cell_type": "code",
   "execution_count": null,
   "id": "2f79fcde-27bd-40d6-9784-6730008597d9",
   "metadata": {},
   "outputs": [],
   "source": []
  },
  {
   "cell_type": "markdown",
   "id": "a2250844-fc0f-4d9d-88dc-7d6586993538",
   "metadata": {},
   "source": [
    "---\n",
    "## Paired *t*-test\n",
    "\n",
    "Let's start by comparing the mean RTs for the congruent and incongruent flanker conditions. \n",
    "\n",
    "Recall that we are working with repeated-measures data – for each participant, we have 160 trials across 4 conditions. *t* tests are not meant for *within-condition* repeated measures data — we need only one measurement per participant in each condition. This is for essentially the same reason discussed at the end of the previous section on repeated measures data: if we treat the within-participant variability the same as the between-participant variability, then we will tend to grossly under-estimate the true (between-participant) variance. When running a *t* test, this would result in erroneously large *t* values that could often falsely suggest a statistically significant result. So, we need to use the aggregated data, `df_avg`. \n",
    "\n",
    "The other important characteristic of our data are that, even though aggregation has reduced the data to one measurement per participant, we still have repeated measures, across the two conditions. The default assumption of a *t* test is that each of the two data sets being compared come from different samples of the population (often called a *between-subjects design* in Psychology). This means that *t* tests assume there is no relationship between any particular measurement in each of the two data sets being compared. When we have measurements from the same people in both data sets (a *within-subjects. design*), we need to account for this, or the *t* test will again suggest an inflated (incorrect) value. We account for this by using a **paired *t* test**. In SciPy, this is the function [`ttest_rel()`](https://docs.scipy.org/doc/scipy/reference/generated/scipy.stats.ttest_rel.html).  (For a between-subjects — or *independent groups* design, which we will not cover here, you would use [`ttest_ind()`](https://docs.scipy.org/doc/scipy/reference/generated/scipy.stats.ttest_ind.html)).\n",
    "\n",
    "### Select the data\n",
    "Running `ttest_rel()` is as simple as giving it the two sets of data you want to compare, as arguments. We can pull these directly from our `df_avg` pandas DataFrame. We'll do this in a few lines of code below, first assigning each data set to a new variable, and then running the *t* test.\n",
    "\n",
    "~~~python\n",
    "congr = df_avg[df_avg['flankers'] == 'congruent']['rt']\n",
    "incongr = df_avg[df_avg['flankers'] == 'incongruent']['rt']\n",
    "~~~"
   ]
  },
  {
   "cell_type": "code",
   "execution_count": null,
   "id": "3f6535b0-86dd-43b7-b348-ddb0db943cc6",
   "metadata": {},
   "outputs": [],
   "source": []
  },
  {
   "cell_type": "markdown",
   "id": "29dc96d8-a70b-4389-b374-2de680944968",
   "metadata": {},
   "source": [
    "Let's make sure you understand the code above before we go on. We've seen it before, but maybe not in exactly this form — and it is quite complex, but logical.\n",
    "\n",
    "We start on the first line by selecting only the rows of the DataFrame associated with congruent trials, which returns a Boolean mask:\n",
    "\n",
    "~~~python\n",
    "df_avg['flankers'] == 'congruent'\n",
    "~~~"
   ]
  },
  {
   "cell_type": "code",
   "execution_count": null,
   "id": "9ef0a83d-8cce-4945-8df7-13665ca934eb",
   "metadata": {},
   "outputs": [],
   "source": []
  },
  {
   "cell_type": "markdown",
   "id": "79f9936d-3455-4597-8e95-f4851833dd3e",
   "metadata": {},
   "source": [
    "We embed this inside another selector `df_avg[df_avg['flankers'] == 'congruent']`, which applies the Boolean mask to the DataFrame, essentially saying, \"select from `df_avg` all the columns associated with congruent trials\". \n",
    "\n",
    "~~~python\n",
    "df_avg[df_avg['flankers'] == 'congruent']\n",
    "~~~"
   ]
  },
  {
   "cell_type": "code",
   "execution_count": null,
   "id": "af9ceec2-cd89-400b-ba8d-e7a420f91ffe",
   "metadata": {},
   "outputs": [],
   "source": []
  },
  {
   "cell_type": "markdown",
   "id": "d55d4f5f-a010-4cb8-8a85-69f0f3189a47",
   "metadata": {},
   "source": [
    "Finally, we add `['rt']` to the end to indicate that, having selected the incongruent rows, we actually only want the column with the RT values, because those are what we want to perform the *t* test on. The second line does the same thing for incongruent trials.\n",
    "\n",
    "~~~python\n",
    "df_avg[df_avg['flankers'] == 'congruent']['rt']\n",
    "~~~"
   ]
  },
  {
   "cell_type": "code",
   "execution_count": null,
   "id": "1cb369b3-aac4-43ab-baac-4dd994106415",
   "metadata": {},
   "outputs": [],
   "source": []
  },
  {
   "cell_type": "markdown",
   "id": "051e34ad-1b35-4673-9c88-30f6ed9e5272",
   "metadata": {},
   "source": [
    "This last result is what we assign to `congr` (note, by the way, that this is a pandas Series, not a DataFrame)."
   ]
  },
  {
   "cell_type": "markdown",
   "id": "cc0683d0-0041-4d04-953e-19229065fd13",
   "metadata": {},
   "source": [
    "Likewise, `incongr` is a Series of the same length (the number of participants):\n",
    "\n",
    "~~~python\n",
    "incongr\n",
    "~~~"
   ]
  },
  {
   "cell_type": "code",
   "execution_count": null,
   "id": "634bc3a4-702e-477b-af13-fb48a9cdceec",
   "metadata": {},
   "outputs": [],
   "source": []
  },
  {
   "cell_type": "markdown",
   "id": "ff1963e6-d471-49c7-be96-d468e20ec9ba",
   "metadata": {},
   "source": [
    "### Run the *t* test\n",
    "\n",
    "Now we just pass `congr` and `incongr` as the first (and only) two arguments to `ttest_rel()`, and print the results out with some explanatory text. Note that we have to write `stats.ttest_rel()`, because we imported the library as `stats`.\n",
    "\n",
    "~~~python\n",
    "t, p = stats.ttest_rel(congr, incongr)\n",
    "print('Congruent vs. Incongruent t = ', str(t), ' p = ', str(p))\n",
    "~~~"
   ]
  },
  {
   "cell_type": "code",
   "execution_count": null,
   "id": "90fdbf0a-3185-497f-986e-b52cd73a9f67",
   "metadata": {},
   "outputs": [],
   "source": []
  },
  {
   "cell_type": "markdown",
   "id": "a748580c-8ba0-41f7-aec1-6226af3d107f",
   "metadata": {},
   "source": [
    "We can make the output nicer by rounding to a reasonable level of precision:\n",
    "\n",
    "~~~python\n",
    "print('Congruent vs. Incongruent t = ', str(round(t, 2)), ' p = ', str(round(p, 4)))\n",
    "~~~"
   ]
  },
  {
   "cell_type": "code",
   "execution_count": null,
   "id": "c4949a48-d959-4090-81e0-4df88e248c81",
   "metadata": {},
   "outputs": [],
   "source": []
  },
  {
   "cell_type": "markdown",
   "id": "ab284c88-df8e-4b2e-bc1f-ec7fb8cc130c",
   "metadata": {},
   "source": [
    "Now that's a results any researcher would be happy to see! The *p* value is not actually zero by the way, but note in the original output the *p* value was reported in scientific notation, ending in `e-10`. This means that the *p* value is actually 0.00000000013739. We would typically report this as *p* < .0001, since we rounded to 4 decimal places (which is fairly typical for reporting *p* values)."
   ]
  },
  {
   "cell_type": "markdown",
   "id": "a7b5d08d-49c6-421a-a6bf-218fc1afccfc",
   "metadata": {},
   "source": [
    "### 1-tailed vs. 2-tailed *p* values\n",
    "    \n",
    "By default, SciPy's `ttest_` functions return **2-tailed *p* values**. This means that the *p* value considers both possible directions of difference between the two conditions. In the present example, that means *either* RTs for congruent are faster than incongruent, *or* they are slower for congruent than incongruent. In contrast, a **1-tailed *p* value** should be used if we have a specific prediction of a \"direction\" of the difference. Using a 1-tailed *p* value will tend to be less conservative, i.e., more likely to find a significant effect. This is because, for a given *p* threshold (e.g., $\\alpha = .05$), a 2-tailed test effectively splits the *p* in half, and reflects a probability of 2.5% that the result occurred by chance in one direction (e.g., congruent slower) and a 2.5% probability of getting the reverse result (e.g., congruent faster) by chance. In contrast, a 1-tailed test allocates all of the 5% chance probability to the likelihood of a difference in one direction (e.g., congruent faster).\n",
    "    \n",
    "Practically speaking, 2-tailed tests should be used by default, but if you have a specific a priori hypothesis regarding the direction of the difference, you can use a 1-tailed test. For example, for the flanker experiment we're working with here, previous research would lead us to the congruent-faster hypothesis. \n",
    "\n",
    "In the present example, it really doesn't matter since the two-tailed *p* value is wildly significant. However, if you want to convert to one-tailed *p* values, you just need to divide *p* in half:"
   ]
  },
  {
   "cell_type": "markdown",
   "id": "dbfcc18b-dfc0-4efa-ac6f-5e8dfb95529e",
   "metadata": {},
   "source": [
    "~~~python\n",
    "print('Congruent vs. Incongruent t = ', str(round(t, 2)), ' p (one-tailed) = ', str(p / 2))\n",
    "~~~"
   ]
  },
  {
   "cell_type": "code",
   "execution_count": null,
   "id": "3064c4fd-275e-4865-8938-561fae1cd6ef",
   "metadata": {},
   "outputs": [],
   "source": []
  },
  {
   "cell_type": "markdown",
   "id": "895d2002-b1cf-4e26-83a5-6d44c474df72",
   "metadata": {
    "nteract": {
     "transient": {
      "deleting": false
     }
    }
   },
   "source": [
    "---\n",
    "## Be careful about order of data values\n",
    "\n",
    "The above paired *t* test worked properly because in our pandas DataFrame, participants are listed in a consistent order. So when we create separate Series for congruent and incongruent, the same rows of the two Series belong to the same participant. However, this isn't always guaranteed, and so it's good practice to do things in a way that ensures proper pairing of participants between data sets. \n",
    "\n",
    "pandas indexing allows us to do this. Recall that indexes are row labels. By default, when we read a CSV file to a DataFrame, the rows are indexed numerically starting from zero. Indeed, if you look back at the contents of `congr` and `incongr`, you'll see the indexes in the left column are discontinuous and different between the two, because each data point came from a separate row. To ensure alignment of each participant's data across the two series, we can first use the participant ID as the index of `df_avg`, and then create separate Series for each condition:"
   ]
  },
  {
   "cell_type": "markdown",
   "id": "d2c9e785-7879-42a8-9561-6fed675c05cf",
   "metadata": {},
   "source": [
    "~~~python\n",
    "df_avg = df_avg.set_index('participant')\n",
    "congr = df_avg[df_avg['flankers'] == 'congruent']['rt']\n",
    "incongr = df_avg[df_avg['flankers'] == 'incongruent']['rt']\n",
    "~~~"
   ]
  },
  {
   "cell_type": "code",
   "execution_count": null,
   "id": "719f9a93-b718-4ff2-93e8-6de06b5300c1",
   "metadata": {
    "nteract": {
     "transient": {
      "deleting": false
     }
    },
    "tags": []
   },
   "outputs": [],
   "source": []
  },
  {
   "cell_type": "markdown",
   "id": "1046de5b-889f-49d7-9856-60d47beb2632",
   "metadata": {},
   "source": [
    "Now when we look at the resulting Series, we see that the participant indexes are preserved:\n",
    "\n",
    "~~~python\n",
    "congr\n",
    "~~~"
   ]
  },
  {
   "cell_type": "code",
   "execution_count": null,
   "id": "75d6858e-8e01-47ac-88ab-3e2d0795530f",
   "metadata": {},
   "outputs": [],
   "source": []
  },
  {
   "cell_type": "markdown",
   "id": "e37471db-8331-4a42-b26e-f73043396937",
   "metadata": {
    "tags": []
   },
   "source": [
    "~~~python\n",
    "incongr\n",
    "~~~"
   ]
  },
  {
   "cell_type": "code",
   "execution_count": null,
   "id": "e79cdb97-bd97-433d-8196-cb938d968921",
   "metadata": {},
   "outputs": [],
   "source": []
  },
  {
   "cell_type": "markdown",
   "id": "87270ee5-0088-4f1d-b205-e045926ae345",
   "metadata": {},
   "source": [
    "### Ensure pandas indexing is used in *t* tests\n",
    "\n",
    "#### What could go wrong? \n",
    "\n",
    "It turns out that SciPy's `ttest` functions ignore pandas indexes, so indexing on its own won't ensure that the *t* test compares data points from the same individuals. We can see that by randomizing the order of the rows of the `incongr2` series, while preserving the relationship between indexes (participant IDs) and RTs (you can compare with above data to confirm that the same RT values are associated with the same IDs as in the original `incongr` Series): "
   ]
  },
  {
   "cell_type": "markdown",
   "id": "051229b7-7fc5-4648-9212-046b21747cb5",
   "metadata": {
    "tags": []
   },
   "source": [
    "~~~python\n",
    "df_avg = df_avg.reset_index()\n",
    "inc_arr = np.array(df_avg[df_avg['flankers']=='incongruent'].iloc[:, [0, 2]])\n",
    "np.random.shuffle(inc_arr)\n",
    "incongr2 = pd.DataFrame(inc_arr, columns=['participant', 'rt']).set_index('participant')\n",
    "incongr2 = pd.Series(incongr2['rt'])\n",
    "incongr2\n",
    "~~~"
   ]
  },
  {
   "cell_type": "code",
   "execution_count": null,
   "id": "d0b30237-4879-4665-87aa-471ae6951162",
   "metadata": {},
   "outputs": [],
   "source": []
  },
  {
   "cell_type": "markdown",
   "id": "7283260c-6814-4a84-a0bc-0ff2c3e57c19",
   "metadata": {},
   "source": [
    "Now when we run the *t* test, the *t* value doesn't match the *t* value that we got above with the properly-paired data, and in fact if you run the code below multiple times, you will get diferent *t* and *p* values each time due to the random shuffling. "
   ]
  },
  {
   "cell_type": "markdown",
   "id": "768506fc-f4dd-41d9-b4f6-15cbd173b7f9",
   "metadata": {},
   "source": [
    "~~~python\n",
    "t, p = stats.ttest_rel(congr, incongr2)\n",
    "print('Congruent vs. Incongruent t = ', str(round(t, 2)), ' p = ', str(round(p, 4)))\n",
    "~~~"
   ]
  },
  {
   "cell_type": "code",
   "execution_count": null,
   "id": "935f8639-3add-4747-b36e-37bcfafba56c",
   "metadata": {},
   "outputs": [],
   "source": []
  },
  {
   "cell_type": "markdown",
   "id": "7267af3f-c61b-4ccc-b9b7-b559f42a501c",
   "metadata": {},
   "source": [
    "### Use `.sort_index()` to ensure paired data are aligned\n",
    "\n",
    "The way we can fix this is by *re-ordering* the data in both Series that we're comparing (`congr` and `incongr2` in this case), using pandas `.sort_index()` method:"
   ]
  },
  {
   "cell_type": "markdown",
   "id": "e886b13e-7d88-4ddc-b10c-27dfec650a64",
   "metadata": {},
   "source": [
    "~~~python\n",
    "t, p = stats.ttest_rel(congr.sort_index(), incongr2.sort_index())\n",
    "print('Congruent vs. Incongruent t = ', str(round(t, 2)), ' p = ', str(round(p, 4)))\n",
    "~~~"
   ]
  },
  {
   "cell_type": "code",
   "execution_count": null,
   "id": "26f3d28b-2214-498f-ab5f-168b5dcd43a0",
   "metadata": {},
   "outputs": [],
   "source": []
  },
  {
   "cell_type": "markdown",
   "id": "72202d04-dd4e-4673-ad4a-c235bd85690c",
   "metadata": {},
   "source": [
    "Long story short, it is good practice to index by participant ID, and use the `.sort_index()` method when applying *t* tests to pandas Series or DataFrames, to ensure that values are appropriately paired."
   ]
  },
  {
   "cell_type": "markdown",
   "id": "d6033d75-fd70-4392-947e-98a411a4e6bb",
   "metadata": {
    "tags": []
   },
   "source": [
    "---\n",
    "## Testing differences: one-sample *t* tests\n",
    "\n",
    "An alternative way to compare the congruent and incongruent conditions is to compute the difference in mean RTs between the two conditions for each participant (since it is a paired design), and then run a *t* test on the differences. In this case, we use a **one sample** *t* test, in which we compare the data set to zero. In other words, is the difference between the conditions basically zero, or is it significantly different from zero (i.e., a believable difference)?\n",
    "\n",
    "We can compute the difference between two pandas Series easily just using the `-` (minus) operator, so in this case we could use `congr - incongr`\n",
    "\n",
    "Note that this subtraction *only* works if the two Series are indexed by participant ID (or in some way that preserves the alignment of values between the two data sets). However, because we are subtracting two pandas objects, pandas recognizes the indexes in each and aligns them, even if the indexes aren't in the same order in the two input Series. So we don't have to worry about using `.sort_index()` as we did above for paired *t* tests.\n",
    "\n",
    "~~~python\n",
    "congr_vs_incongr = congr - incongr\n",
    "t, p = stats.ttest_1samp(congr_vs_incongr, 0)\n",
    "print('Congruent vs. Incongruent t = ', str(round(t, 2)), ' p = ', str(round(p, 4)))\n",
    "~~~"
   ]
  },
  {
   "cell_type": "code",
   "execution_count": null,
   "id": "bd3dacbb-836c-409d-b28f-bacbe0c4abee",
   "metadata": {},
   "outputs": [],
   "source": []
  },
  {
   "cell_type": "markdown",
   "id": "99c893f6-fed0-4268-b59a-cb997534dec5",
   "metadata": {},
   "source": [
    "Note that we get the same result from the 1 sample *t* test if we perform the subtraction on the two Series that have the same order of indexes, as when we perform the subtraction using `incongr2`, which has a randomly shuffled order of indexes. We don't need to explicitly `.sort_index()` in this case:\n",
    "\n",
    "~~~python\n",
    "congr_vs_incongr = congr - incongr2\n",
    "t, p = stats.ttest_1samp(congr_vs_incongr, 0)\n",
    "print('Congruent vs. Incongruent t = ', str(round(t, 2)), ' p = ', str(round(p, 4)))\n",
    "~~~"
   ]
  },
  {
   "cell_type": "code",
   "execution_count": null,
   "id": "b7794207-e34c-4895-a017-166c4f77b201",
   "metadata": {},
   "outputs": [],
   "source": []
  },
  {
   "cell_type": "markdown",
   "id": "cf5a4e45-30dc-4a28-b1d9-266cc8a6f14c",
   "metadata": {},
   "source": [
    "<div class=\"alert alert-block alert-info\">\n",
    "\n",
    "### Paired vs. 1-sample *t* tests?\n",
    "\n",
    "You'll note the result of the 1-sample *t* test is the same as the paired *t* test above. This is expected, because in both cases we ran a *t* test to compare the difference between the same two sets of data. From a coding perspective, the paired *t* test is a bit simpler, because you don't have to perform a subtraction on the data prior to running the *t* test. \n",
    "    \n",
    "The reasons we might want to run a 1-sample *t* test include cases where the data are already represented as a subtraction, or in some cases when we're working with multiple variables, performing subtractions can be a way of simplifying our presentation of the results. As well, since pandas subtraction respects the indexes, computing differences and then 1-sample *t* tests can be a bit safer in ensuring that the proper within-participants nesting structure of your data is preserved.\n",
    "    \n",
    "</div>"
   ]
  },
  {
   "cell_type": "markdown",
   "id": "d96a9ef1-8199-45e3-81a7-841003ec5f6b",
   "metadata": {
    "tags": []
   },
   "source": [
    "---\n",
    "## Summary\n",
    "- *t* tests are used to compare the means of two sets of data to each other, or the mean of one set of data against a particular value (such as zero)\n",
    "- An **unpaired *t* test** is used to compare two independent sets of data (e.g., from two different samples of a population, two groups, etc.)\n",
    "- A **paired *t* test** must be used when the two sets of data come from the same samples (e.g., the same individual participants)\n",
    "- A **1-sample *t* test** is used to compare the mean of one set of data against a specific value. This is often used to compare a data set to zero\n",
    "- Paired *t* tests and 1-sample *t* tests can both be used to determine whether differences between two samples are significantly different from zero (no difference). \n",
    "    - In the 1-sample case, you must first compute the difference between the pairs of data in two conditions.\n",
    "- When working with pandas data objects, it is important to remember that SciPy's functions (including `ttest`) do not use pandas indexes. So when doing paired *t* tests, you must ensure that the data are listed in the same order in the two Series being compared.\n",
    "    - The best way to ensure that the within-participant/repeated measures structure of the data is preserved when doing a *t* test, is to use two columns from a DataFrame that is indexed by participant ID.\n",
    "    - One alternative is to use the `.sort_index()` method on two series that are indexed by participant ID\n",
    "    - Another alternative is to use the fact that pandas does respect its indexing when you subtract two Series, so if your data are indexed by participant ID, doing the subtraction followed by a 1-sample *t* test is a way of ensuring that the within-participants relationships between data sets are preserved."
   ]
  }
 ],
 "metadata": {
  "kernelspec": {
   "display_name": "Python 3 (ipykernel)",
   "language": "python",
   "name": "python3"
  },
  "language_info": {
   "codemirror_mode": {
    "name": "ipython",
    "version": 3
   },
   "file_extension": ".py",
   "mimetype": "text/x-python",
   "name": "python",
   "nbconvert_exporter": "python",
   "pygments_lexer": "ipython3",
   "version": "3.9.6"
  },
  "nteract": {
   "version": "0.28.0"
  }
 },
 "nbformat": 4,
 "nbformat_minor": 5
}
